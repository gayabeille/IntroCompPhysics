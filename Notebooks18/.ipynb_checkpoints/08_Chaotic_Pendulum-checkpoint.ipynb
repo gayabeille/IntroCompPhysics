{
 "cells": [
  {
   "cell_type": "markdown",
   "metadata": {},
   "source": [
    "# Module 8 - Chaos in the Driven Dissipative Pendulum"
   ]
  },
  {
   "cell_type": "markdown",
   "metadata": {},
   "source": [
    "## Goals\n",
    "\n",
    "- The driven dissipative  pendulum\n",
    "- Analysis of chaotic systems\n",
    "- Bifurcation diagrams"
   ]
  },
  {
   "cell_type": "markdown",
   "metadata": {},
   "source": [
    "## Equations of Motion\n",
    "\n",
    "The motion of a pendulum is governed by the equation\n",
    "\n",
    "$$ m \\frac{d \\vec{v}}{d t} = \\vec{F}, $$\n",
    "\n",
    "which in the case where gravity is the only force results in\n",
    "\n",
    "\\begin{equation}\n",
    "\\ddot{\\theta} = -\\frac{g}{\\ell} \\sin\\theta .\n",
    "\\end{equation}\n",
    "\n",
    "The above equation has an analytical solution of the form\n",
    "\n",
    "\\begin{eqnarray}\n",
    "\\theta(t) &=& 2 \\sin^{-1} \\left\\{ k\\, \\mathrm{sn}\\left[K(k^2)-\\sqrt{\\frac{g}{\\ell}} t; k^2\\right] \\right\\} \\newline\n",
    "k &=& \\sin \\frac{\\theta_0}{2} \\newline\n",
    "K(m) &=& \\int_0^1 \\frac{d z}{\\sqrt{(1-z^2)(1-m z^2)}},\n",
    "\\end{eqnarray}\n",
    "\n",
    "where $\\mathrm{sn}$ is the Jacobi elliptic sine function (https://en.wikipedia.org/wiki/Jacobi_elliptic_functions).\n",
    "\n",
    "In the presence of external forces (including those that lead to non-conservation of energy) due to\n",
    "\n",
    " * Gravity: $\\;\\vec{F_g}(t) = m g \\hat{y}(t)$\n",
    " * Dissipation: $\\;\\vec{F_{\\gamma}}(t) = -\\gamma\\; \\vec{v}(t)$\n",
    " * Motor/driver: $\\;\\vec{F_\\mathrm{D}}(t) = F_\\mathrm{D} \\sin (\\Omega_\\mathrm{D} t) \\hat{\\theta}$\n",
    "\n",
    "we can write down the equation of motion from Newton's law: $\\; m \\frac{d \\vec{v}}{d t} = \\vec{F_g} + \\vec{F_{\\gamma}} + \\vec{F_\\mathrm{D}} $.\n",
    "\n",
    "Since $x^2 + y^2 = \\ell^2$ it is convenient to write everything in terms of the angle $\\theta$\n",
    "\n",
    "$$ y = \\ell \\cos \\theta $$\n",
    "$$ x = \\ell \\sin \\theta $$\n",
    "\n",
    "In plane polar coordinates $\\vec{r} = (r,\\theta)$ with $d r / dt = 0$ we have\n",
    "\n",
    "$$ \\vec{v} = \\ell \\dot{\\theta} \\hat{\\theta}$$\n",
    "\n",
    "$$ \\dot{\\vec{v}} = -\\ell \\dot{\\theta}^2 \\hat{r} + \\ell \\ddot{\\theta} \\hat{\\theta}$$\n",
    "\n",
    "$$ \\hat{y} = \\cos \\theta\\; \\hat{r} - \\sin \\theta\\; \\hat{\\theta} $$\n",
    "\n",
    "and measuring $\\gamma$ and $F_D$ in terms of the mass $m$ the equation of motion in the $\\hat{\\theta}$ direction is\n",
    "\n",
    "\\begin{equation}\n",
    "\\frac{d^2 \\theta}{d t^2} = -\\frac{g}{\\ell}\\sin\\theta - \\gamma \\frac{d\\theta}{d t} + F_\\mathrm{D} \\sin \\Omega_\\mathrm{D}t.\n",
    "\\end{equation}\n"
   ]
  },
  {
   "cell_type": "code",
   "execution_count": null,
   "metadata": {},
   "outputs": [],
   "source": [
    "from IPython.display import YouTubeVideo\n",
    "# A driven double pendulum\n",
    "YouTubeVideo('7DK1Eayyj_c')"
   ]
  },
  {
   "cell_type": "code",
   "execution_count": null,
   "metadata": {},
   "outputs": [],
   "source": [
    "import matplotlib.pyplot as plt\n",
    "import numpy as np\n",
    "from scipy.constants import pi as π\n",
    "from scipy.constants import g\n",
    "%matplotlib notebook\n",
    "\n",
    "def non_linear_θ(ℓ,θ0,t):\n",
    "    '''The solution for θ for the non-linear pendulum.'''\n",
    "    # use special functions\n",
    "    from scipy import special\n",
    "    k = np.sin(θ0/2.0)\n",
    "    K = special.ellipk(k*k)\n",
    "    (sn,cn,dn,ph) = special.ellipj(K-np.sqrt(g/l)*t,k*k)\n",
    "    return 2.0*np.arcsin(k*sn)\n",
    "\n",
    "# constants and intitial conditions\n",
    "ℓ = 0.25 # m\n",
    "Δt = 0.001 # s\n",
    "\n",
    "t = np.arange(0.0,4.0,Δt)\n",
    "θ,ω = np.zeros_like(t),np.zeros_like(t)\n",
    "θ[0] = π/4.0 # rad\n",
    "\n",
    "for n in range(t.size-1):\n",
    "    θ[n+1] = θ[n] + ω[n]*Δt\n",
    "    ω[n+1] = ω[n] -(g/ℓ)*np.sin(θ[n+1])*Δt\n",
    "\n",
    "# the exact solution\n",
    "plt.plot(t,non_linear_θ(ℓ,θ[0],t), label='Exact')\n",
    "\n",
    "# the Euler-Cromer method\n",
    "plt.plot(t[::20],θ[::20], 'o', mfc='None', markersize = 6, label='Euler Cromer method')\n",
    "plt.legend(loc='lower left',frameon=True)\n",
    "\n",
    "plt.xlabel('Time [s]')\n",
    "plt.ylabel('θ(t) [rad]')"
   ]
  },
  {
   "cell_type": "markdown",
   "metadata": {},
   "source": [
    "## Adding Dissipation and the Driving Force\n",
    "\n",
    "We are unable to find an analytical solution for the general case.  However, we can easily use the Euler-Cromer method to compute an approximate solution. We start by casting our second order ODE as two coupled first order equations:\n",
    "\n",
    "\\begin{eqnarray}\n",
    "\\frac{d \\omega}{d t} &=& -\\frac{g}{\\ell}\\sin\\theta - \\gamma \\frac{d\\theta}{d t} + F_\\mathrm{D} \\sin \\Omega_\\mathrm{D}t \\newline\n",
    "\\frac{d\\theta}{d t} &=& \\omega.\n",
    "\\end{eqnarray}\n",
    "\n",
    "These two equations take the following discrete form using the Euler-Cromer method:\n",
    "\n",
    "\\begin{eqnarray}\n",
    "\\omega_{n+1} &=& \\omega_n - \\frac{g}{\\ell} \\sin[\\theta_n] \\Delta t - \\gamma \\omega_n \\Delta t + F_D \\sin[\\Omega_D t_n] \\Delta t \\newline\n",
    "\\theta_{n+1} &=& \\theta_n + \\omega_{n+1} \\Delta t .\n",
    "\\end{eqnarray}"
   ]
  },
  {
   "cell_type": "code",
   "execution_count": null,
   "metadata": {
    "collapsed": true
   },
   "outputs": [],
   "source": [
    "def euler(t,FD,ℓ,θ0,ω0,γ,ΩD):\n",
    "    ''' Semi-implicit Euler Method for the non-linear, dissipative, driven pendulum.'''\n",
    "    \n",
    "    Δt = t[1]-t[0]\n",
    "    ω,θ = np.zeros_like(t),np.zeros_like(t)\n",
    "    θ[0],ω[0] = θ0,ω0\n",
    "    \n",
    "    # perform the numerical integration\n",
    "    for n in range(t.size-1):\n",
    "        ω[n+1] = ω[n] + (-(g/ℓ)*np.sin(θ[n]) - γ*ω[n] + FD*np.sin(ΩD*t[n]))*Δt\n",
    "        θ[n+1] = θ[n] + ω[n+1]*Δt\n",
    "        \n",
    "        # keep theta in [-pi,pi)\n",
    "        if θ[n+1] < -π:\n",
    "            θ[n+1] += 2.0*π\n",
    "        if θ[n+1] >= π:\n",
    "            θ[n+1] -= 2.0*π \n",
    "\n",
    "    return θ,ω"
   ]
  },
  {
   "cell_type": "markdown",
   "metadata": {},
   "source": [
    "### Lets determine how the driving force affects the time evolution"
   ]
  },
  {
   "cell_type": "code",
   "execution_count": null,
   "metadata": {
    "collapsed": true
   },
   "outputs": [],
   "source": [
    "params = ℓ,θ0,ω0,γ,ΩD = g, 0.2, 0.0, 0.5, 2.0/3.0\n",
    "Δt = 0.04\n",
    "t = np.arange(0.0,60,Δt)"
   ]
  },
  {
   "cell_type": "markdown",
   "metadata": {},
   "source": [
    "#### Damped oscillator with no driving force: $F_{\\mathrm{D}} = 0$"
   ]
  },
  {
   "cell_type": "code",
   "execution_count": null,
   "metadata": {},
   "outputs": [],
   "source": [
    "θ,ω = euler(t,0.0,*params)\n",
    "\n",
    "plt.figure()\n",
    "plt.plot(t,θ)\n",
    "plt.title(r'$F_\\mathrm{D} = %3.1f\\; \\mathrm{rad/s^{-2}}$'%0.0)\n",
    "plt.xlabel('Time [s]')\n",
    "plt.ylabel('θ(t) [rad]')"
   ]
  },
  {
   "cell_type": "markdown",
   "metadata": {},
   "source": [
    "#### Weak driving force"
   ]
  },
  {
   "cell_type": "code",
   "execution_count": null,
   "metadata": {},
   "outputs": [],
   "source": [
    "params = g, 0.2, 0.0, 0.5, 2.0/3.0\n",
    "θ,ω = euler(t,0.2,*params)\n",
    "\n",
    "plt.figure()\n",
    "plt.plot(t,θ)\n",
    "plt.title(r'$F_\\mathrm{D} = %3.1f\\; \\mathrm{rad/s^{-2}}$'%0.2)\n",
    "plt.xlabel('Time [s]')\n",
    "plt.ylabel('θ(t) [rad]')"
   ]
  },
  {
   "cell_type": "markdown",
   "metadata": {},
   "source": [
    "### Let's investigate the explicit $F_\\mathrm{D}$ dependence"
   ]
  },
  {
   "cell_type": "code",
   "execution_count": null,
   "metadata": {},
   "outputs": [],
   "source": [
    "FD = [0.0,0.5,0.75,1.0,1.25,1.5]\n",
    "\n",
    "# create a subplot array\n",
    "fig, axes = plt.subplots(2,3, sharex=True)\n",
    "fig.subplots_adjust(wspace=0.3)\n",
    "for i, ax in enumerate(axes.flat):\n",
    "    θ,ω = euler(t,FD[i],*params)\n",
    "    ax.plot(t,θ, label=r'$F_\\mathrm{D} = %3.1f\\; \\mathrm{s}^{-2}$'%FD[i])\n",
    "    ax.legend(frameon=True, loc='lower right')\n",
    "\n",
    "# set axis labels\n",
    "[ax.set_ylabel('θ(t) [rad]') for ax in axes[:,0]]\n",
    "[ax.set_xlabel('Time [s]') for ax in axes[-1,:]]"
   ]
  },
  {
   "cell_type": "markdown",
   "metadata": {},
   "source": [
    "## Understanding Chaos\n",
    "\n",
    " * What does **chaos** mean in this context?\n",
    " * It appears that when the driving force is strong, the angle as a function of time does not follow any predictable pattern.\n",
    " * However, we **CAN** predict it, as we have just calculated θ(t) via a numerical integration of the equation of motion.\n",
    " * This apparent contradiction is referred to as *deterministic chaos* and is common for non-linear ODE’s\n",
    "\n",
    "This type of chaos is most easily understood in terms of the sensitivity of the trajectory on the initial conditions."
   ]
  },
  {
   "cell_type": "code",
   "execution_count": null,
   "metadata": {},
   "outputs": [],
   "source": [
    "θ0 = [0.2,0.21,0.22] #  initial conditions\n",
    "FD = [0.5,1.2] # driving force\n",
    "\n",
    "# compare the initial conditions\n",
    "fig, axes = plt.subplots(2,1,sharex=True,sharey=False)\n",
    "for i, ax in enumerate(axes.flat):\n",
    "    for j,cθ in enumerate(θ0):\n",
    "        label = r'$\\theta_0 = %4.2f\\,\\mathrm{rad}$'%cθ\n",
    "        params = ℓ,cθ,ω0,γ,ΩD\n",
    "        θ,ω = euler(t,FD[i],*params)\n",
    "        ax.plot(t,θ,label=label)\n",
    "    ax.legend(frameon=True, loc='lower left')\n",
    "    ax.text(70,0.0,r'$F_\\mathrm{D} = %3.1f\\; \\mathrm{s}^{-2}$'%F[i], fontsize=15)\n",
    "    \n",
    "    # set axis labels\n",
    "    ax.set_ylabel('θ(t) [rad]')\n",
    "\n",
    "axes[-1].set_xlabel('Time [s]')\n",
    "plt.subplots_adjust(right=0.7)"
   ]
  },
  {
   "cell_type": "markdown",
   "metadata": {},
   "source": [
    "## Quantifying this Effect\n",
    "\n",
    " * We can try to quantify this effect by looking at the difference in angle at long times for two pendulums with nearly identical initial conditions.\n",
    " * Start them off with the same initial velocity, but with an initial angle difference of $\\Delta \\theta_0 = 0.0001$ radians."
   ]
  },
  {
   "cell_type": "code",
   "execution_count": null,
   "metadata": {},
   "outputs": [],
   "source": [
    "F = [0.5,1.2] # driving force [1/s^2]\n",
    "θ0 = 0.2 # initial angle [rad]\n",
    "params = [(ℓ,θ0,ω0,γ,ΩD),(ℓ,θ0+1.0E-4,ω0,γ,ΩD)]\n",
    "\n",
    "Δθ = []\n",
    "fig, axes = plt.subplots(2,1,sharex=True, sharey=False, squeeze=False, figsize=(6,8))\n",
    "for i, ax in enumerate(axes.flat):\n",
    "    label = r'$F_\\mathrm{D} = %3.1f\\; \\mathrm{s}^{-2}$' % F[i]\n",
    "    \n",
    "    θ1,ω = euler(t,F[i],*params[0])\n",
    "    θ2,ω = euler(t,F[i],*params[1])\n",
    "    Δθ.append(np.abs(θ1-θ2))\n",
    "    \n",
    "    ax.semilogy(t, Δθ[i], label=label)\n",
    "    ax.legend(loc='best', frameon=False)\n",
    "    \n",
    "    # set axis labels\n",
    "    ax.set_ylabel('|Δθ(t)| [rad]')\n",
    "\n",
    "axes[1,0].set_xlabel('Time [s]')"
   ]
  },
  {
   "cell_type": "markdown",
   "metadata": {},
   "source": [
    "Note that the two regimes differ by the slope of the general linear trend on a log scale.\n",
    "\n",
    "$$ \\log \\Delta \\theta \\sim \\lambda t $$\n",
    "$$ \\Rightarrow \\Delta \\theta \\propto \\mathrm{e}^{\\lambda t} $$\n",
    "\n",
    "$\\lambda$ is known as the Lyapunov exponent after Russian mathematician Aleksandr Lyapunov\n",
    "\n",
    "<img src=\"https://upload.wikimedia.org/wikipedia/commons/f/f5/Alexander_Ljapunow_jung.jpg\" />\n",
    "\n",
    "and can be used to characterize the sensitivity of a dynamic system to initial conditions.\n",
    "\n",
    "$ \\lambda > 0 \\Rightarrow $ chaotic\n",
    "\n",
    "$ \\lambda < 0 \\Rightarrow $ non-chaotic\n",
    "\n",
    "Let's quantify this by trying to extract numerical values for the Lyapunov exponent."
   ]
  },
  {
   "cell_type": "code",
   "execution_count": null,
   "metadata": {},
   "outputs": [],
   "source": [
    "from scipy.signal import argrelextrema\n",
    "from scipy.optimize import curve_fit\n",
    "F = [0.5,1.2]\n",
    "\n",
    "# Linear fitting function\n",
    "def linear(x,a0,a1):\n",
    "    return a0 + a1*x\n",
    "\n",
    "# find the local maxima\n",
    "popt = [0,0]\n",
    "for i,cF in enumerate(F):\n",
    "    ind = argrelextrema(np.log(Δθ[i]),np.greater)[0]\n",
    "    extθ = np.log(Δθ[i][ind])\n",
    "    popt[i], pcov = curve_fit(linear,t[ind],extθ)\n",
    "\n",
    "# Now plot the results of the fit\n",
    "fig, axes = plt.subplots(2,1,sharex=True, sharey=False, squeeze=False)\n",
    "for i, ax in enumerate(axes.flat):\n",
    "    labellam = r'$\\lambda = %4.2f\\; \\mathrm{s}^{-1}$'%popt[i][1]\n",
    "    \n",
    "    ax.semilogy(t, Δθ[i], ',', markeredgewidth=0.01)\n",
    "    ax.semilogy(t, np.exp(linear(t,popt[i][0],popt[i][1])), linewidth=1.0, label=labellam)\n",
    "      \n",
    "    # set labels and legend\n",
    "    ax.set_ylabel('|Δθ(t)| [rad]')\n",
    "    ax.text(70,1.0E-6,r'$F_\\mathrm{D} = %3.1f\\; \\mathrm{s}^{-2}$'%F[i],fontsize=15)\n",
    "    ax.legend()\n",
    "axes[1,0].set_xlabel('Time [s]')\n",
    "plt.subplots_adjust(right=0.7)"
   ]
  },
  {
   "cell_type": "markdown",
   "metadata": {},
   "source": [
    "## Phase Space Plots\n",
    "\n",
    "So far we have only analyzed the angle $\\theta$ as a function of time, but there is information encoded in the angular velocity $\\omega$ as well.  We can observe evidence of chaotic motion by looking at plots of $\\theta$ vs $\\omega$"
   ]
  },
  {
   "cell_type": "code",
   "execution_count": null,
   "metadata": {},
   "outputs": [],
   "source": [
    "params = ℓ,θ0,ω0,γ,ΩD\n",
    "F = [0.5,1.2]\n",
    "blue = '#2078b5'\n",
    "\n",
    "fig, axes = plt.subplots(2,1, figsize=(6,8))\n",
    "for i, ax in enumerate(axes.flat):\n",
    "    labelF = r'$F_\\mathrm{D} = %3.1f\\; \\mathrm{s}^{-2}$' % F[i]\n",
    "    theta,omega = euler(t,F[i],*params)\n",
    "    \n",
    "    ax.scatter(theta, omega, s=1.0, color=blue, label=labelF)\n",
    "\n",
    "    # set axis labels and legends\n",
    "    ax.set_ylabel('ω [rad/s]')\n",
    "    ax.set_xlim(-π,π)\n",
    "    ax.set_ylim(-π,π)\n",
    "    ax.set_aspect('equal','box')\n",
    "    ax.legend(loc='upper right')\n",
    "    ax.set_xlabel('θ(t) [rad]')"
   ]
  },
  {
   "cell_type": "code",
   "execution_count": null,
   "metadata": {},
   "outputs": [],
   "source": [
    "params = ℓ,θ0,ω0,γ,ΩD\n",
    "F = [0.5,1.2]\n",
    "blue = '#2078b5'\n",
    "\n",
    "fig, axes = plt.subplots(2,1, figsize=(6,8))\n",
    "for i, ax in enumerate(axes.flat):\n",
    "    labelF = r'$F_\\mathrm{D} = %3.1f\\; \\mathrm{s}^{-2}$' % F[i]\n",
    "    theta,omega = euler(t,F[i],*params)\n",
    "    \n",
    "    sc = ax.scatter(theta, omega, s=1.0, c=t, cmap='viridis_r', label=labelF)\n",
    "\n",
    "    # set axis labels and legends\n",
    "    ax.set_ylabel('ω [rad/s]')\n",
    "    ax.set_xlim(-π,π)\n",
    "    ax.set_ylim(-π,π)\n",
    "    ax.set_aspect('equal','box')\n",
    "    ax.legend(loc='upper right')\n",
    "    cbar = plt.colorbar(sc, ax=ax)\n",
    "    cbar.set_label('Time [s]')\n",
    "    ax.set_xlabel('θ(t) [rad]')"
   ]
  },
  {
   "cell_type": "code",
   "execution_count": null,
   "metadata": {},
   "outputs": [],
   "source": [
    "from mpl_toolkits.mplot3d import Axes3D\n",
    "params = ℓ,θ0,ω0,γ,ΩD\n",
    "F = [0.5,1.2]\n",
    "blue = '#2078b5'\n",
    "\n",
    "fig, axes = plt.subplots(2,1, figsize=(6,8), subplot_kw={'projection': '3d'})\n",
    "\n",
    "for i, ax in enumerate(axes.flat):\n",
    "    labelF = r'$F_\\mathrm{D} = %3.1f\\; \\mathrm{s}^{-2}$' % F[i]\n",
    "    theta,omega = euler(t,F[i],*params)\n",
    "    \n",
    "    sc = ax.scatter(theta, omega, t, s=1.0, c=t, cmap='viridis_r', label=labelF)\n",
    "\n",
    "    # set axis labels and legends\n",
    "    ax.set_ylabel('ω [rad/s]')\n",
    "    ax.set_zlabel('Time [s]')\n",
    "    ax.set_xlim(-π,π)\n",
    "    ax.set_ylim(-π,π)\n",
    "    ax.set_aspect('equal','box')\n",
    "    ax.legend(loc='upper right')\n",
    "    cbar = plt.colorbar(sc, ax=ax)\n",
    "    cbar.set_label('Time [s]')\n",
    "    ax.set_xlabel('θ(t) [rad]')"
   ]
  },
  {
   "cell_type": "markdown",
   "metadata": {},
   "source": [
    " * For a small driving force, we observe transients then relaxation into periodic motion.\n",
    " * For large driving force, the trajectory has many nearly closed orbits.\n",
    "\n",
    "## Poincaré Section\n",
    "\n",
    "<img src=\"https://upload.wikimedia.org/wikipedia/commons/4/45/Henri_Poincar%C3%A9-2.jpg\" width=200px>\n",
    "\n",
    "These nearly closed orbits are related to so-called *Strange Attractors* which can be found by looking at a phase space plot that is in phase with the driving force.\n",
    "\n",
    "$$ \\Omega_\\mathrm{D} t = 2 n \\pi $$\n",
    "\n",
    "where $n \\in \\mathbb{Z}$.  We can code this by selecting time slices with index:\n",
    "\n",
    "$$ m = \\mathrm{int}\\left(\\frac{2\\pi n}{\\Delta t \\Omega_{\\mathrm{D}}} + \\frac{1}{2} \\right) $$\n",
    "\n",
    "This is equivalent to only selecting those time steps when:\n",
    "\\begin{equation}\n",
    "\\left | t[m] - \\frac{2 m \\pi}{\\Omega_D} \\right| < \\frac{\\Delta t}{2} .\n",
    "\\end{equation}"
   ]
  },
  {
   "cell_type": "code",
   "execution_count": null,
   "metadata": {
    "collapsed": true
   },
   "outputs": [],
   "source": [
    "# Generate more phase space data\n",
    "Δt = 2.0*π/(ΩD*100)\n",
    "longt = np.arange(0,10000,Δt)\n",
    "\n",
    "F = [0.5,1.2]\n",
    "θ,ω = [],[]\n",
    "for cF in F:\n",
    "    th,w = euler(longt,cF,*params)\n",
    "    θ.append(th)\n",
    "    ω.append(w)\n",
    "\n",
    "# Get the in-phase time slices\n",
    "inPhase = []\n",
    "n = 0\n",
    "while True:\n",
    "    m = int(2.0*π*n/(longt[1]*ΩD) + 0.5)\n",
    "    if m > 1 and m < len(longt):\n",
    "        inPhase.append(m)\n",
    "    elif m >= len(longt):\n",
    "        break\n",
    "    n += 1\n",
    "\n",
    "#Exploit the ability of numpy arrays to take a list of indices as their index\n",
    "inPhaset = longt[inPhase]"
   ]
  },
  {
   "cell_type": "markdown",
   "metadata": {},
   "source": [
    "### Now we plot the actual Poincaré section"
   ]
  },
  {
   "cell_type": "code",
   "execution_count": null,
   "metadata": {},
   "outputs": [],
   "source": [
    "orange = '#ff7f0f'\n",
    "colors = orange,blue\n",
    "plt.figure(figsize=(8,8))\n",
    "for i in range(2):\n",
    "    labelF = r'$F_\\mathrm{D} = %3.1f\\; \\mathrm{s}^{-2}$' % F[i]\n",
    "    plt.scatter(θ[i][inPhase], ω[i][inPhase], s=1.0, color=colors[i], label=labelF)\n",
    "    \n",
    "plt.title('Strange Attractors')\n",
    "plt.legend(fontsize=16)\n",
    "plt.xlabel('θ [rad]')\n",
    "plt.ylabel('ω [rad/s]')\n",
    "plt.xlim(-π,π);"
   ]
  },
  {
   "cell_type": "markdown",
   "metadata": {},
   "source": [
    "The Poincare section looks very different for the chaotic vs non-chaotic regime.\n",
    "\n",
    " * Two points in non-chaotic regime: \n",
    "    * Original periodic motion\n",
    "    * Periodic motion, parallel to the driver \n",
    " * In chaotic regime, we get a surface.\n",
    "    * _Fuzziness_ not due to numerics: property of the system.\n",
    "    * Largely independent of details of initial conditions.\n",
    "    * Surface has a fractal dimension\n",
    "\n",
    "Let's take a look at how the chaotic behavior actuall emerges in this system."
   ]
  },
  {
   "cell_type": "code",
   "execution_count": null,
   "metadata": {},
   "outputs": [],
   "source": [
    "F = [1.35, 1.44, 1.465] \n",
    "θ0 = 0.2\n",
    "params = ℓ,θ0,ω0,γ,ΩD\n",
    "\n",
    "fig, axes = plt.subplots(3,1,sharex=True, sharey=True, squeeze=False, figsize=(6,10))\n",
    "for i, ax in enumerate(axes.flat):\n",
    "        labelF = r'$F_\\mathrm{D} = %5.3f\\; \\mathrm{s}^{-2}$' % F[i]\n",
    "        θ,ω = euler(t,F[i],*params)\n",
    "        ax.plot(t, θ, label=labelF)\n",
    "        ax.legend(loc=\"lower left\", frameon=True, prop={'size':16})\n",
    "    \n",
    "        # set axis labels\n",
    "        ax.set_ylabel('θ(t) [rad]')\n",
    "        \n",
    "axes[-1,0].set_xlabel('Time [s]')"
   ]
  },
  {
   "cell_type": "markdown",
   "metadata": {},
   "source": [
    " * As we increase the driving force, we observe that for special values of $F_\\mathrm{D}$, the period doubles.\n",
    " * Periodic motion with frequencies $\\Omega_\\mathrm{D}/2, \\Omega_\\mathrm{D}/4 \\ldots$\n",
    " * Striking phenomenon! Usually in non-linear systems we expect the appearance of higher harmonics: frequencies that are integer multiples of the driving frequency.\n",
    "\n",
    "We can systematicaly study this effect via a **Bifurcation Diagram**.\n",
    "\n",
    " 1. Study the angle $\\theta$ as a function of time.\n",
    " 2. After waiting until all transients have died away, we plot $\\theta$ at times that are in phase with the driving force.\n",
    " 3. Repeat for different values of the driving force. \n",
    " \n",
    "## Bifurcation Diagram\n",
    "\n",
    "We want to analyze the long-time behavior of the system after all trasients have died out as a function of $F_\\mathrm{D}$"
   ]
  },
  {
   "cell_type": "code",
   "execution_count": null,
   "metadata": {
    "collapsed": true
   },
   "outputs": [],
   "source": [
    "run = False\n",
    "F = np.arange(0,1.5,0.0025)\n",
    "if run:\n",
    "    θ = np.zeros([len(inPhase[10:]),len(F)])\n",
    "    for i,cF in enumerate(F):\n",
    "        th,ω = euler(longt,cF,*params)\n",
    "        θ[:,i] = th[inPhase[10:]]\n",
    "    np.savetxt('data/theta.dat', θ)"
   ]
  },
  {
   "cell_type": "code",
   "execution_count": null,
   "metadata": {},
   "outputs": [],
   "source": [
    "θ = np.loadtxt('data/theta.dat')\n",
    "plt.figure(figsize=(7,7))\n",
    "for i,cF in enumerate(F):\n",
    "    plt.scatter(cF*np.ones_like(θ[:,i]), θ[:,i], s=3.0, marker=',', c=blue, edgecolors='None') \n",
    "\n",
    "plt.ylabel('θ [rad]')\n",
    "plt.xlabel(r'$F_\\mathrm{D}\\; [\\mathrm{s}^{-2}]$')\n",
    "plt.xlim(1.34,1.5);\n",
    "plt.ylim(0,π);"
   ]
  },
  {
   "cell_type": "markdown",
   "metadata": {},
   "source": [
    "### The Onset of Chaos\n",
    "\n",
    " * The bifurcation diagram gives us a feeling for how chaotic behavior is approached: a cascade of period doublings.\n",
    " * Is this behavior universal? We have yet to discuss why this doubling happens.\n",
    " * Define $F_n$ as the value of some parameter where the $n^{\\mathrm{th}}$ period doubling occurs.\n",
    "\n",
    "$$\\delta_n = \\frac{F_n - F_{n-1}}{F_{n+1}-F_n}$$\n",
    "\n",
    "What happens when $n\\to\\infty$? We find a number called the **Universal Feigenbaum-$\\delta$** \n",
    "\n",
    "$$\\lim_{n\\to\\infty} \\delta_n \\to 4.699\\ldots$$"
   ]
  },
  {
   "cell_type": "code",
   "execution_count": null,
   "metadata": {
    "collapsed": true
   },
   "outputs": [],
   "source": []
  }
 ],
 "metadata": {
  "kernelspec": {
   "display_name": "Python 3",
   "language": "python",
   "name": "python3"
  },
  "language_info": {
   "codemirror_mode": {
    "name": "ipython",
    "version": 3
   },
   "file_extension": ".py",
   "mimetype": "text/x-python",
   "name": "python",
   "nbconvert_exporter": "python",
   "pygments_lexer": "ipython3",
   "version": "3.6.5"
  }
 },
 "nbformat": 4,
 "nbformat_minor": 1
}
